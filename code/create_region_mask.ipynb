{
 "cells": [
  {
   "cell_type": "markdown",
   "metadata": {},
   "source": [
    "### Create region masks for different ocean basins"
   ]
  },
  {
   "cell_type": "code",
   "execution_count": null,
   "metadata": {},
   "outputs": [],
   "source": [
    "# Data analysis libraries \n",
    "import sys\n",
    "import xarray as xr\n",
    "import numpy as np\n",
    "\n",
    "# Visualization libraries\n",
    "import matplotlib.pyplot as plt\n",
    "import matplotlib.path\n",
    "import matplotlib.dates as mdates\n",
    "import matplotlib.ticker as ticker\n",
    "import cartopy.crs as ccrs\n",
    "import cartopy.feature as cfeature\n",
    "from cartopy.mpl.ticker import LongitudeFormatter, LatitudeFormatter\n"
   ]
  },
  {
   "cell_type": "code",
   "execution_count": null,
   "metadata": {},
   "outputs": [],
   "source": [
    "def get_mask(poly_verts, lsmask):\n",
    "    '''create a mask from polygon vertices.\n",
    "    \n",
    "    poly_verts: polygon vertices, List [(lon,lat),...]\n",
    "    \n",
    "    lsmask: land mask, DataArray [nlon x nlat]\n",
    "    \n",
    "    '''\n",
    "    x, y = np.meshgrid(lsmask.lon.values, lsmask.lat.values)\n",
    "    x, y = x.flatten(), y.flatten()\n",
    "    points = np.vstack((x,y)).T\n",
    "    path = matplotlib.path.Path(poly_verts)\n",
    "    grid = path.contains_points(points)\n",
    "    grid = grid.reshape((lsmask.lat.shape[0],lsmask.lon.shape[0]))\n",
    "\n",
    "    mask = xr.DataArray(data=grid, dims=['lat', 'lon'],\n",
    "                                 coords=dict(\n",
    "                                     lat=('lat', lsmask.lat.values),\n",
    "                                     lon=('lon', lsmask.lon.values))\n",
    "                                )\n",
    "    mask = mask.where(mask==1, other=np.nan)\n",
    "    return mask\n"
   ]
  },
  {
   "cell_type": "markdown",
   "metadata": {},
   "source": [
    "### Load landmask"
   ]
  },
  {
   "cell_type": "code",
   "execution_count": null,
   "metadata": {},
   "outputs": [],
   "source": [
    "path = 'https://psl.noaa.gov/thredds/dodsC/Datasets/noaa.oisst.v2.highres/lsmask.oisst.nc'\n",
    "mask = xr.open_dataset(path, use_cftime=True) \n",
    "\n",
    "# make longitude cyclic\n",
    "east = np.arange(.125, 180.125, .25)\n",
    "west = np.arange(-180.125, -.125, .25)\n",
    "new_lon = np.concatenate((west, east))\n",
    "mask['lon'] = new_lon\n",
    "\n",
    "lsmask = mask.lsmask.isel(time=0).where((mask.lat<65) & (mask.lat>-70), drop=False, other=0) \n",
    "lsmask.plot()"
   ]
  },
  {
   "cell_type": "markdown",
   "metadata": {},
   "source": [
    "### North Pacific"
   ]
  },
  {
   "cell_type": "code",
   "execution_count": null,
   "metadata": {},
   "outputs": [],
   "source": [
    "offset = 360\n",
    "poly_verts_east = [(142,-20), \n",
    "                   (142,-5), \n",
    "                   (130,0), \n",
    "                   (125,5), \n",
    "                   (125,10),\n",
    "                   (120,20), \n",
    "                   (115,40),\n",
    "                   (120,66),\n",
    "                   (180,66),\n",
    "                   (180,-20),\n",
    "                  ]\n",
    "\n",
    "poly_verts_west = [(240-offset,66),\n",
    "                   (240-offset,40),\n",
    "                   (250-offset,30),\n",
    "                   (260-offset,20),\n",
    "                   (270-offset,15),\n",
    "                   (276-offset,12),\n",
    "                   (278-offset,8),\n",
    "                   (279-offset,9),\n",
    "                   (285-offset,5),\n",
    "                   (285-offset,-10),\n",
    "                   (295-offset,-20),\n",
    "                   (-180,-20),\n",
    "                   (-180,66),\n",
    "                  ]\n",
    "\n",
    "north_pacific_west = get_mask(poly_verts_west, lsmask)\n",
    "north_pacific_east = get_mask(poly_verts_east, lsmask)"
   ]
  },
  {
   "cell_type": "markdown",
   "metadata": {},
   "source": [
    "### North Atlantic "
   ]
  },
  {
   "cell_type": "code",
   "execution_count": null,
   "metadata": {},
   "outputs": [],
   "source": [
    "offset = 360\n",
    "poly_verts = [(285-offset,66), \n",
    "              (290-offset,50),\n",
    "              (280-offset,40),\n",
    "              (260-offset,30),\n",
    "              (260-offset,20),\n",
    "              (270-offset,15),\n",
    "              (276-offset,12),\n",
    "              (278-offset,8),\n",
    "              (279-offset,9),\n",
    "              (285-offset,6),\n",
    "              (355-offset,6),\n",
    "              (354-offset,35),\n",
    "              (362-offset,45),\n",
    "              (376-offset,60),\n",
    "              (375-offset,66),\n",
    "              (285-offset,66),\n",
    "             ]\n",
    "\n",
    "north_atlantic = get_mask(poly_verts, lsmask)"
   ]
  },
  {
   "cell_type": "markdown",
   "metadata": {},
   "source": [
    "### South Pacific"
   ]
  },
  {
   "cell_type": "code",
   "execution_count": null,
   "metadata": {},
   "outputs": [],
   "source": [
    "offset = 360\n",
    "poly_verts = [(145,-20), \n",
    "              (295-offset,-20),\n",
    "              (293-offset,-30),\n",
    "              (290-offset,-40),\n",
    "              (288-offset,-50),\n",
    "              (294-offset,-71),\n",
    "              (135,-71),\n",
    "              (145,-20),\n",
    "             ]\n",
    "\n",
    "poly_verts_east = [(145,-20),\n",
    "                   (135,-71),\n",
    "                   (180, -71),\n",
    "                   (180, -20),\n",
    "                   (145,-20),\n",
    "                  ]\n",
    "\n",
    "poly_verts_west = [(-180, -20),\n",
    "                   (295-offset,-20),\n",
    "                  (293-offset,-30),\n",
    "                  (290-offset,-40),\n",
    "                  (288-offset,-50),\n",
    "                  (294-offset,-71),\n",
    "                  (-180,-71),]\n",
    "\n",
    "south_pacific = get_mask(poly_verts, lsmask)\n",
    "south_pacific_east = get_mask(poly_verts_east, lsmask)\n",
    "south_pacific_west = get_mask(poly_verts_west, lsmask)"
   ]
  },
  {
   "cell_type": "markdown",
   "metadata": {},
   "source": [
    "### Indian Ocean"
   ]
  },
  {
   "cell_type": "code",
   "execution_count": null,
   "metadata": {},
   "outputs": [],
   "source": [
    "poly_verts = [(135,-71),\n",
    "              (145,-20),\n",
    "              (142,-5),\n",
    "              (130,0),\n",
    "              (125,5),\n",
    "              (125,10),\n",
    "              (120,20),\n",
    "              (115,30),\n",
    "              (60,30),\n",
    "              (56,20),\n",
    "              (45,13),\n",
    "              (35,0),\n",
    "              (20,-30),\n",
    "              (20,-71),\n",
    "              (135,-71)\n",
    "             ]\n",
    "\n",
    "indian_ocean = get_mask(poly_verts, lsmask)"
   ]
  },
  {
   "cell_type": "markdown",
   "metadata": {},
   "source": [
    "### South Atlantic"
   ]
  },
  {
   "cell_type": "code",
   "execution_count": null,
   "metadata": {},
   "outputs": [],
   "source": [
    "offset = 360\n",
    "poly_verts = [(380-offset,-71),\n",
    "              (380-offset,30),\n",
    "              (380-offset,-71),\n",
    "              (380-offset,-10),\n",
    "              (375-offset,6),\n",
    "              (305-offset,6),\n",
    "              (295-offset,-30),\n",
    "              (288-offset,-50),\n",
    "              (294-offset,-71),\n",
    "              \n",
    "              \n",
    "             ]\n",
    "\n",
    "south_atlantic = get_mask(poly_verts, lsmask)"
   ]
  },
  {
   "cell_type": "code",
   "execution_count": null,
   "metadata": {},
   "outputs": [],
   "source": [
    "fig = plt.figure(figsize=(10,5)) \n",
    "ax = plt.subplot(111, projection=ccrs.Robinson(central_longitude=-160))\n",
    "ax.set_global()\n",
    "ax.add_feature(cfeature.LAND, facecolor='k', zorder=1) \n",
    "lsmask.plot.contourf(levels=3, colors='none', hatches=['////',None], transform=ccrs.PlateCarree(central_longitude=-180), \n",
    "                     add_colorbar=False, add_labels=False)\n",
    "# plt.plot(xlon, ylat, c='orange', lw=2,transform=ccrs.PlateCarree())\n",
    "north_pacific_east.plot.contourf(transform=ccrs.PlateCarree(), colors='orange', add_colorbar=False)\n",
    "north_pacific_west.plot.contourf(transform=ccrs.PlateCarree(), colors='orange', add_colorbar=False)\n",
    "north_atlantic.plot.contourf(transform=ccrs.PlateCarree(), colors='mediumpurple', add_colorbar=False)\n",
    "south_pacific_east.plot.contourf(transform=ccrs.PlateCarree(), colors='seagreen', add_colorbar=False)\n",
    "south_pacific_west.plot.contourf(transform=ccrs.PlateCarree(), colors='seagreen', add_colorbar=False)\n",
    "indian_ocean.plot.contourf(transform=ccrs.PlateCarree(), colors='powderblue', add_colorbar=False)\n",
    "south_atlantic.plot.contourf(transform=ccrs.PlateCarree(), colors='gold', add_colorbar=False)\n",
    "\n",
    "# plt.savefig('../figures/basin_map.png', transparent=True)"
   ]
  },
  {
   "cell_type": "markdown",
   "metadata": {},
   "source": [
    "Load OISST detrended anomalies"
   ]
  },
  {
   "cell_type": "code",
   "execution_count": null,
   "metadata": {},
   "outputs": [],
   "source": [
    "ds_oisst = xr.open_dataset('~/marine-heatwaves/data/preprocessed_oisst.nc')\n",
    "ssta_notrend = ds_oisst.ssta_notrend\n"
   ]
  },
  {
   "cell_type": "markdown",
   "metadata": {},
   "source": [
    "Load Ocetrac labels"
   ]
  },
  {
   "cell_type": "code",
   "execution_count": null,
   "metadata": {},
   "outputs": [],
   "source": [
    "ds_ocetrac = xr.open_dataset('~/marine-heatwaves/data/ocetrac_labels.nc')\n"
   ]
  },
  {
   "cell_type": "code",
   "execution_count": null,
   "metadata": {},
   "outputs": [],
   "source": []
  }
 ],
 "metadata": {
  "kernelspec": {
   "display_name": "marine-heatwaves",
   "language": "python",
   "name": "marine-heatwaves"
  },
  "language_info": {
   "codemirror_mode": {
    "name": "ipython",
    "version": 3
   },
   "file_extension": ".py",
   "mimetype": "text/x-python",
   "name": "python",
   "nbconvert_exporter": "python",
   "pygments_lexer": "ipython3",
   "version": "3.9.6"
  }
 },
 "nbformat": 4,
 "nbformat_minor": 5
}
